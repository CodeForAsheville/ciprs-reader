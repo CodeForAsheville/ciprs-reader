{
 "cells": [
  {
   "cell_type": "markdown",
   "metadata": {},
   "source": [
    "https://bostata.com/post/how_to_populate_fillable_pdfs_with_python/"
   ]
  },
  {
   "cell_type": "code",
   "execution_count": 1,
   "metadata": {},
   "outputs": [],
   "source": [
    "import os\n",
    "import pdfrw"
   ]
  },
  {
   "cell_type": "code",
   "execution_count": 2,
   "metadata": {},
   "outputs": [],
   "source": [
    "TEMPLATE_PATH = 'petition-template.pdf'\n",
    "OUTPUT_PATH = 'petition.pdf'\n",
    "\n",
    "ANNOT_KEY = '/Annots'\n",
    "ANNOT_FIELD_KEY = '/T'\n",
    "ANNOT_VAL_KEY = '/V'\n",
    "ANNOT_RECT_KEY = '/Rect'\n",
    "SUBTYPE_KEY = '/Subtype'\n",
    "WIDGET_SUBTYPE_KEY = '/Widget'"
   ]
  },
  {
   "cell_type": "code",
   "execution_count": 3,
   "metadata": {},
   "outputs": [],
   "source": [
    "template_pdf = pdfrw.PdfReader(TEMPLATE_PATH)"
   ]
  },
  {
   "cell_type": "code",
   "execution_count": 5,
   "metadata": {},
   "outputs": [],
   "source": [
    "annotations = template_pdf.pages[0][ANNOT_KEY]"
   ]
  },
  {
   "cell_type": "code",
   "execution_count": 27,
   "metadata": {},
   "outputs": [],
   "source": [
    "data_dict = {\n",
    "    \"County\": 'Durham',\n",
    "    # File No\n",
    "    \"ConsJdgmntFileNum\": \"CfD-100\",\n",
    "    # Checkboxes: In The General Court of Justice\n",
    "    \"District\": 'Yes',  # Yes == checked\n",
    "    \"Superior\": '',\n",
    "    # Name and Address of Petitioner\n",
    "    \"NamePetitioner\": \"John Doe\",\n",
    "    \"StreetAddr\": \"100 Main St.\",\n",
    "    \"MailAddr\": \"Apt A\",\n",
    "    \"City\": \"Durham\",\n",
    "    \"State\": \"NC\",\n",
    "    \"ZipCode\": \"27701\",\n",
    "    # Drivers License Number\n",
    "    \"DLNo\": \"123456789\",\n",
    "    \"DLState\": \"NC\",\n",
    "    # Race\n",
    "    \"Race\": \"U\",\n",
    "    # Sex\n",
    "    \"Sex\": \"M\",\n",
    "    # Date of Birth\n",
    "    \"DOB\": \"1/1/2000\",\n",
    "    # Full Social Security Number\n",
    "    \"SNN\": '111-11-1111',\n",
    "    # Age At Time of Offense\n",
    "    \"Age\": '18',\n",
    "    # Name and Address of Petitioners Attorney\n",
    "    \"NameAtty\": \"Arnetta Herring\",\n",
    "    \"StAddrAtty\": \"510 Dillard Street, 6th Fl\",\n",
    "    \"MailAddrAtty\": \"Suite 6400\",\n",
    "    \"CityAtty\": \"Durham\",\n",
    "    \"StateAtty\": \"NC\",\n",
    "    \"ZipCodeAtty\": \"27701\",\n",
    "    \n",
    "    \n",
    "    \n",
    "#    'customer_name': 'company.io',\n",
    "#    'customer_email': 'joe@company.io',\n",
    "#    'invoice_number': '102394',\n",
    "#    'send_date': '2018-02-13',\n",
    "#    'due_date': '2018-03-13',\n",
    "#    'note_contents': 'Thank you for your business, Joe',\n",
    "#    'item_1': 'Data consulting services',\n",
    "#    'item_1_quantity': '10 hours',\n",
    "#    'item_1_price': '$200/hr',\n",
    "#    'item_1_amount': '$2000',\n",
    "#    'subtotal': '$2000',\n",
    "#    'tax': '0',\n",
    "#    'discounts': '0',\n",
    "#    'total': '$2000',\n",
    "#    'business_name_2': 'Bostata LLC',\n",
    "#    'business_email_address': 'hi@bostata.com',\n",
    "#    'business_phone_number': '(617) 930-4294'\n",
    "}"
   ]
  },
  {
   "cell_type": "code",
   "execution_count": 28,
   "metadata": {},
   "outputs": [],
   "source": [
    "for annotation in annotations:\n",
    "    if annotation[SUBTYPE_KEY] == WIDGET_SUBTYPE_KEY and annotation[ANNOT_FIELD_KEY]:\n",
    "        key = annotation[ANNOT_FIELD_KEY][1:-1]\n",
    "        if key in data_dict:\n",
    "            annotation.update(\n",
    "                pdfrw.PdfDict(V='{}'.format(data_dict[key]))\n",
    "            )\n",
    "pdfrw.PdfWriter().write(OUTPUT_PATH, template_pdf)"
   ]
  },
  {
   "cell_type": "code",
   "execution_count": 29,
   "metadata": {},
   "outputs": [],
   "source": [
    "! open petition.pdf"
   ]
  },
  {
   "cell_type": "code",
   "execution_count": null,
   "metadata": {},
   "outputs": [],
   "source": []
  }
 ],
 "metadata": {
  "kernelspec": {
   "display_name": "Python 3",
   "language": "python",
   "name": "python3"
  },
  "language_info": {
   "codemirror_mode": {
    "name": "ipython",
    "version": 3
   },
   "file_extension": ".py",
   "mimetype": "text/x-python",
   "name": "python",
   "nbconvert_exporter": "python",
   "pygments_lexer": "ipython3",
   "version": "3.6.6"
  }
 },
 "nbformat": 4,
 "nbformat_minor": 2
}
