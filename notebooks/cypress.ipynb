{
 "cells": [
  {
   "cell_type": "markdown",
   "metadata": {},
   "source": [
    "# Cypress PDF - Text Extraction Exploration\n",
    "\n",
    "Code for Durham"
   ]
  },
  {
   "cell_type": "code",
   "execution_count": 13,
   "metadata": {},
   "outputs": [],
   "source": [
    "import os\n",
    "import re\n",
    "import pdfrw\n",
    "import pdf_redactor\n",
    "import pprint\n",
    "\n",
    "import pdfminer"
   ]
  },
  {
   "cell_type": "code",
   "execution_count": 2,
   "metadata": {},
   "outputs": [],
   "source": [
    "def uncompress(pages):\n",
    "    \"\"\"Text content must be uncompressed before reading\"\"\"\n",
    "    for page in pages:\n",
    "        for content in page.Contents:\n",
    "            pdfrw.uncompress.uncompress([content])"
   ]
  },
  {
   "cell_type": "code",
   "execution_count": 3,
   "metadata": {},
   "outputs": [],
   "source": [
    "# Path to original example Cypress PDF\n",
    "CYPRESS_PATH = 'ignore/cypress-example.PDF'"
   ]
  },
  {
   "cell_type": "code",
   "execution_count": 4,
   "metadata": {},
   "outputs": [],
   "source": [
    "# Path to externally uncompressed version of Cypress PDF using:\n",
    "#   qpdf --stream-data=uncompress --object-streams=disable notebooks/ignore/cypress-example.PDF notebooks/ignore/cypress-example.unc.pdf\n",
    "CYPRESS_PATH_UNC = 'ignore/cypress-example.unc.PDF'"
   ]
  },
  {
   "cell_type": "code",
   "execution_count": 5,
   "metadata": {},
   "outputs": [],
   "source": [
    "pdf = pdfrw.PdfReader(CYPRESS_PATH)\n",
    "pdf_unc = pdfrw.PdfReader(CYPRESS_PATH_UNC)\n",
    "uncompress(pdf.pages)"
   ]
  },
  {
   "cell_type": "code",
   "execution_count": 6,
   "metadata": {},
   "outputs": [],
   "source": [
    "page0 = pdf.pages[0].Contents[1].stream\n",
    "page1 = pdf.pages[1].Contents[1].stream\n",
    "page2 = pdf.pages[1].Contents[1].stream"
   ]
  },
  {
   "cell_type": "code",
   "execution_count": 7,
   "metadata": {},
   "outputs": [
    {
     "data": {
      "text/plain": [
       "\"q\\nq\\n0 1 -1 0 16 800 cm\\nBT\\n1 0 0 1 -756.57 0 Tm\\n/F1 12 Tf\\n0.45 g\\n(Not a certified copy. ~ Not a certified copy. ~ Not a certified copy. ~ Not a certified copy. ~ Not a certified copy. ~ Not a certified copy.)Tj\\n0 g\\nET\\nQ\\nQ\\nq\\nBT\\n28 771 Td\\n0 -66.5 Td\\nET\\nQ\\nq\\n1.5 w\\n28 747 m\\n600 747 l\\nS\\nQ\\nq\\n1.2 w\\n28 714 m\\n600 714 l\\nS\\nQ\\nq\\nQ\\nq\\n2 J\\n0 G\\nQ\\nq 220 0 0 17.5 28 753.5 cm /img1 Do Q\\nBT\\n1 0 0 1 28 753.5 Tm\\n220 0 Td\\n-220 0 Td\\nET\\nq 132.5 0 0 17.5 469.5 753.5 cm /img3 Do Q\\nBT\\n1 0 0 1 469.5 753.5 Tm\\n132.5 0 Td\\n-132.5 0 Td\\nET\\nBT\\n1 0 0 1 150.84 732.5 Tm\\n/F1 14 Tf\\n(Case Details for Court Case ORANGE 15IF702186)Tj\\nET\\nBT\\n1 0 0 1 208.65 716.5 Tm\\n/F1 12 Tf\\n(Defendant: )Tj\\n/F2 12 Tf\\n(BOWES,DANIEL,PATRICK)Tj\\nET\\nq\\n0.82353 0.82353 0.82353 rg\\n28 696 574 16 re\\nf\\nQ\\nq\\n2 J\\n0 G\\nQ\\nBT\\n1 0 0 1 30 698 Tm\\n/F1 12 Tf\\n(Case Information)Tj\\nET\\nq\\nQ\\nq\\n2 J\\n0 G\\nQ\\nBT\\n1 0 0 1 30 681 Tm\\n/F1 9 Tf\\n(Case Record Was Last Updated: )Tj\\n/F2 9 Tf\\n(09/22/2015)Tj\\nET\\nBT\\n1 0 0 1 30 668 Tm\\n/F1 9 Tf\\n(Case Status: )Tj\\n/F2 9 Tf\\n(DISPOSED)Tj\\nET\\nBT\\n1 0 0 1 30 655 Tm\\n/F1 9 Tf\\n(Microfilm Number: )Tj\\n/F2 9 Tf\\n(-)Tj\\nET\\nBT\\n1 0 0 1 30 642 Tm\\n/F1 9 Tf\\n(Case Was Reinstated: )Tj\\n/F2 9 Tf\\n(-)Tj\\nET\\nBT\\n1 0 0 1 30 629 Tm\\n/F1 9 Tf\\n(Jurisdiction: )Tj\\n/F2 9 Tf\\n(DISTRICT COURT)Tj\\nET\\nBT\\n1 0 0 1 30 616 Tm\\n/F1 9 Tf\\n(Citation Number: )Tj\\n/F2 9 Tf\\n(8878F91)Tj\\nET\\nBT\\n1 0 0 1 30 603 Tm\\n/F1 9 Tf\\n(Originating Case \\\\(OCA\\\\) or Incident)Tj\\nET\\nBT\\n1 0 0 1 30 590 Tm\\n/F1 9 Tf\\n(\\x95   Agency: )Tj\\n/F2 9 Tf\\n(-)Tj\\nET\\nBT\\n1 0 0 1 30 577 Tm\\n/F1 9 Tf\\n(\\x95   Number: )Tj\\n/F2 9 Tf\\n(-)Tj\\nET\\nBT\\n1 0 0 1 30 560 Tm\\n/F1 9 Tf\\n(Process Type in District Court: )Tj\\n/F2 9 Tf\\n(CITATION)Tj\\nET\\nBT\\n1 0 0 1 30 547 Tm\\n/F1 9 Tf\\n(Process Type in Superior Court: )Tj\\n/F2 9 Tf\\n(-)Tj\\nET\\nBT\\n1 0 0 1 30 530 Tm\\n/F1 9 Tf\\n(Domestic Violence General Statute \\\\(G.S. 50B\\\\) Applies to)Tj\\nET\\nBT\\n1 0 0 1 30 517 Tm\\n/F1 9 Tf\\n(\\x95   Charged Offenses: )Tj\\n/F2 9 Tf\\n(NO)Tj\\nET\\nBT\\n1 0 0 1 30 504 Tm\\n/F1 9 Tf\\n(\\x95   Offenses Convicted in District Court: )Tj\\n/F2 9 Tf\\n(NO)Tj\\nET\\nBT\\n1 0 0 1 30 491 Tm\\n/F1 9 Tf\\n(Crime Victim's Rights Act \\\\(G.S. \""
      ]
     },
     "execution_count": 7,
     "metadata": {},
     "output_type": "execute_result"
    }
   ],
   "source": [
    "page0[:2000]"
   ]
  },
  {
   "cell_type": "markdown",
   "metadata": {},
   "source": [
    "## Using pdf_redactor"
   ]
  },
  {
   "cell_type": "code",
   "execution_count": 8,
   "metadata": {},
   "outputs": [],
   "source": [
    "data = {}\n",
    "tokens = list(pdf_redactor.build_text_layer(pdf, None))"
   ]
  },
  {
   "cell_type": "code",
   "execution_count": 9,
   "metadata": {},
   "outputs": [
    {
     "data": {
      "text/plain": [
       "[Token<'Not a certified copy. ~ Not a certified copy. ~ Not a certified copy. ~ Not a certified copy. ~ Not a certified copy. ~ Not a certified copy.'>,\n",
       " Token<'Case Details for Court Case ORANGE 15IF702186'>,\n",
       " Token<'Defendant: '>,\n",
       " Token<'BOWES,DANIEL,PATRICK'>,\n",
       " Token<'Case Information'>,\n",
       " Token<'Case Record Was Last Updated: '>,\n",
       " Token<'09/22/2015'>,\n",
       " Token<'Case Status: '>,\n",
       " Token<'DISPOSED'>,\n",
       " Token<'Microfilm Number: '>,\n",
       " Token<'-'>,\n",
       " Token<'Case Was Reinstated: '>,\n",
       " Token<'-'>,\n",
       " Token<'Jurisdiction: '>,\n",
       " Token<'DISTRICT COURT'>,\n",
       " Token<'Citation Number: '>,\n",
       " Token<'8878F91'>,\n",
       " Token<'Originating Case (OCA) or Incident'>,\n",
       " Token<'•   Agency: '>,\n",
       " Token<'-'>]"
      ]
     },
     "execution_count": 9,
     "metadata": {},
     "output_type": "execute_result"
    }
   ],
   "source": [
    "tokens[0][:20]"
   ]
  },
  {
   "cell_type": "markdown",
   "metadata": {},
   "source": [
    "## Using manual text searching w/ RegEx"
   ]
  },
  {
   "cell_type": "code",
   "execution_count": 10,
   "metadata": {},
   "outputs": [],
   "source": [
    "data = {}"
   ]
  },
  {
   "cell_type": "code",
   "execution_count": 11,
   "metadata": {},
   "outputs": [],
   "source": [
    "# DEFENDANT\n",
    "# Text: (Defendant: )Tj\\n/F2 12 Tf\\n(BOWES,DANIEL,PATRICK)Tj\\n\n",
    "defendant_re = r'\\(Defendant: \\)Tj\\n/F2 12 Tf\\n\\(([\\w,]+)\\)Tj\\n'\n",
    "match = re.search(defendant_re, page0)\n",
    "data['defendant'] = match.group(1)"
   ]
  },
  {
   "cell_type": "code",
   "execution_count": 12,
   "metadata": {},
   "outputs": [],
   "source": [
    "# CASE STATUS\n",
    "# Text: (Case Status: )Tj\\n/F2 9 Tf\\n(DISPOSED)Tj\\n\n",
    "case_status_re = r'\\(Case Status: \\)Tj\\n/F2 9 Tf\\n\\(([\\w,]+)\\)Tj\\n'\n",
    "match = re.search(case_status_re, page0)\n",
    "data['case_status'] = match.group(1)"
   ]
  },
  {
   "cell_type": "code",
   "execution_count": 13,
   "metadata": {},
   "outputs": [],
   "source": [
    "# DATE OF BIRTH\n",
    "# Text: (Date of Birth/Estimated Age:)Tj\\nET\\nBT\\n1 0 0 1 30 172 Tm\\n/F2 9 Tf\\n(09/10/1988)Tj\\n\n",
    "dob_re = r'\\(Date of Birth/Estimated Age:\\)Tj\\nET\\nBT\\n1 0 0 1 30 172 Tm\\n/F2 9 Tf\\n\\(([\\w/]+)\\)Tj\\n'\n",
    "match = re.search(dob_re, page0)\n",
    "data['dob'] = match.group(1)"
   ]
  },
  {
   "cell_type": "code",
   "execution_count": 14,
   "metadata": {},
   "outputs": [
    {
     "data": {
      "text/plain": [
       "{'defendant': 'BOWES,DANIEL,PATRICK',\n",
       " 'case_status': 'DISPOSED',\n",
       " 'dob': '09/10/1988'}"
      ]
     },
     "execution_count": 14,
     "metadata": {},
     "output_type": "execute_result"
    }
   ],
   "source": [
    "data"
   ]
  },
  {
   "cell_type": "markdown",
   "metadata": {},
   "source": [
    "## pdfminer"
   ]
  },
  {
   "cell_type": "code",
   "execution_count": 15,
   "metadata": {},
   "outputs": [],
   "source": [
    "from pdfminer.pdfinterp import PDFResourceManager, PDFPageInterpreter\n",
    "from pdfminer.converter import TextConverter, HTMLConverter\n",
    "from pdfminer.layout import LAParams\n",
    "from pdfminer.pdfpage import PDFPage\n",
    "from io import StringIO\n",
    "\n",
    "def convert_pdf_to_txt(path):\n",
    "    rsrcmgr = PDFResourceManager()\n",
    "    retstr = StringIO()\n",
    "    codec = 'utf-8'\n",
    "    laparams = LAParams()\n",
    "    device = TextConverter(rsrcmgr, retstr, codec=codec, laparams=laparams)\n",
    "    fp = open(path, 'rb')\n",
    "    interpreter = PDFPageInterpreter(rsrcmgr, device)\n",
    "    password = \"\"\n",
    "    maxpages = 0\n",
    "    caching = True\n",
    "    pagenos=set()\n",
    "\n",
    "    for page in PDFPage.get_pages(fp, pagenos, maxpages=maxpages, password=password,caching=caching, check_extractable=True):\n",
    "        interpreter.process_page(page)\n",
    "\n",
    "    text = retstr.getvalue()\n",
    "\n",
    "    fp.close()\n",
    "    device.close()\n",
    "    retstr.close()\n",
    "    return text"
   ]
  },
  {
   "cell_type": "code",
   "execution_count": 16,
   "metadata": {},
   "outputs": [
    {
     "data": {
      "text/plain": [
       "\".\\n\\ny\\np\\no\\nc\\nd\\ne\\n\\n \\n\\ni\\nf\\ni\\nt\\nr\\ne\\nc\\na\\n\\n \\n\\n \\nt\\no\\nN\\n~\\n\\n \\n\\n \\n.\\n\\n \\n\\ny\\np\\no\\nc\\nd\\ne\\ni\\nf\\ni\\nt\\nr\\ne\\nc\\na\\n\\n \\n\\n \\nt\\no\\nN\\n~\\n\\n \\n\\n \\n.\\n\\n \\n\\ny\\np\\no\\nc\\nd\\ne\\ni\\nf\\ni\\nt\\nr\\ne\\nc\\n \\na\\n \\nt\\no\\nN\\n~\\n\\n \\n\\n \\n.\\ny\\np\\no\\nc\\n \\nd\\ne\\ni\\nf\\ni\\nt\\nr\\ne\\nc\\n \\na\\n \\nt\\no\\nN\\n~\\n\\n \\n\\n \\n.\\ny\\np\\no\\nc\\n \\nd\\ne\\n\\ni\\nf\\ni\\nt\\nr\\ne\\nc\\n\\n \\n\\na\\n\\n \\nt\\no\\nN\\n~\\n\\n \\n\\n \\n.\\n\\ny\\np\\no\\nc\\nd\\ne\\n\\n \\n\\ni\\nf\\ni\\nt\\nr\\ne\\nc\\n\\n \\n\\na\\n \\nt\\no\\nN\\n\\nCase Details for Court Case ORANGE 15IF702186\\n\\nDefendant: BOWES,DANIEL,PATRICK\\n\\nCase Information\\nCase Record Was Last Updated: 09/22/2015\\nCase Status: DISPOSED\\nMicrofilm Number: -\\nCase Was Reinstated: -\\nJurisdiction: DISTRICT COURT\\nCitation Number: 8878F91\\nOriginating Case (OCA) or Incident\\n•   Agency: -\\n•   Number: -\\n\\nProcess Type in District Court: CITATION\\nProcess Type in Superior Court: -\\n\\nDomestic Violence General Statute (G.S. 50B) Applies to\\n•   Charged Offenses: NO\\n•   Offenses Convicted in District Court: NO\\nCrime Victim's Rights Act (G.S. 15A-830) Applies: NO\\n\\nInterpreter Used: -\\nCase Notes: -\\nCase Officials\\nProsecuting Attorney\\n•   Assigned on: 07/15/2015\\n•   Initials: JLN\\n•   Name: NIEMAN,JEFFREY,LARKIN\\nArrest and Release Information\\nNo arrest information was recorded for this case.\\nViolation of Court Orders\\n\\nCash Bond Was Forfeited on: -\\nOutstanding Order for Arrest Exists: NO\\nTerms of Probation Were Violated: NO\\nFailed to Comply with Ordered Payment within Grace\\nPeriod: YES\\nOrder to Show Cause Exists: NO\\nDefendant\\nName: BOWES,DANIEL,PATRICK\\nAlias Names:(cid:9)\\nDate of Birth/Estimated Age:\\n09/10/1988\\nRace: WHITE\\nSex: MALE\\nAddress: 1030 SUNNYVIEW CIR\\n         (cid:9)\\nWitnesses\\n\\n(cid:9)MATTHEWS, NC 28105\\n\\n(cid:9)-\\n\\nOffense Date/Time: 05/17/2015 09:59 PM\\nCase Was Issued on: 05/17/2015\\nCase Was Entered on: 05/18/2015\\nCase Was Served on: 05/17/2015\\n\\nCourt Session\\n•   Date: 07/15/2015\\n•   Session: AM\\n•   Room: -\\n\\nNumber of Times the Case Was Continued\\n•   By the Defense: 1\\n•   By the State: -\\n•   By the Judge: -\\n•   Because the Case Could Not Be Heard on the Scheduled Date: -\\n\\nDefense Attorney\\n•   Type: PRIVATELY RETAINED (SELF)\\n•   Assigned on: 07/15/\""
      ]
     },
     "execution_count": 16,
     "metadata": {},
     "output_type": "execute_result"
    }
   ],
   "source": [
    "pdf_text = convert_pdf_to_txt(CYPRESS_PATH)\n",
    "pdf_text[:2000]"
   ]
  },
  {
   "cell_type": "code",
   "execution_count": 17,
   "metadata": {},
   "outputs": [],
   "source": [
    "miner_data = {}"
   ]
  },
  {
   "cell_type": "code",
   "execution_count": 25,
   "metadata": {},
   "outputs": [],
   "source": [
    "# DEFENDANT\n",
    "# Text: Defendant: BOWES,DANIEL,PATRICK\n",
    "defendant_re = r'Defendant: ([\\w,]+)'\n",
    "match = re.search(defendant_re, pdf_text)\n",
    "miner_data['defendant'] = match.group(1)"
   ]
  },
  {
   "cell_type": "code",
   "execution_count": 26,
   "metadata": {},
   "outputs": [
    {
     "data": {
      "text/plain": [
       "{'defendant': 'BOWES,DANIEL,PATRICK'}"
      ]
     },
     "execution_count": 26,
     "metadata": {},
     "output_type": "execute_result"
    }
   ],
   "source": [
    "miner_data"
   ]
  },
  {
   "cell_type": "markdown",
   "metadata": {},
   "source": [
    "# pdftotext"
   ]
  },
  {
   "cell_type": "code",
   "execution_count": 6,
   "metadata": {},
   "outputs": [],
   "source": [
    "! pdftotext -layout -f 1 -l 1 ignore/cypress-example.PDF ignore/cypress-page1.txt\n",
    "! pdftotext -layout -f 2 -l 2 ignore/cypress-example.PDF ignore/cypress-page2.txt\n",
    "! pdftotext -layout -f 3 -l 3 ignore/cypress-example.PDF ignore/cypress-page3.txt\n",
    "! pdftotext -layout -enc UTF-8 ignore/cypress-example.PDF ignore/cypress.txt"
   ]
  },
  {
   "cell_type": "code",
   "execution_count": 7,
   "metadata": {},
   "outputs": [],
   "source": [
    "with open(\"ignore/cypress-page1.txt\", encoding='ISO-8859-1') as f:\n",
    "    page1 = f.read()\n",
    "with open(\"ignore/cypress-page2.txt\", encoding='ISO-8859-1') as f:\n",
    "    page2 = f.read()\n",
    "with open(\"ignore/cypress-page3.txt\", encoding='ISO-8859-1') as f:\n",
    "    page3 = f.read()\n",
    "with open(\"ignore/cypress.txt\") as f:\n",
    "    pages = f.read()"
   ]
  },
  {
   "cell_type": "code",
   "execution_count": 3,
   "metadata": {},
   "outputs": [],
   "source": [
    "data2 = {}"
   ]
  },
  {
   "cell_type": "code",
   "execution_count": 8,
   "metadata": {},
   "outputs": [
    {
     "data": {
      "text/plain": [
       "\"Not a certified copy. ~ Not a certified copy. ~ Not a certified copy. ~ Not a certified copy. ~ Not a certified copy. ~ Not a certified copy.\\n\\n\\n                                                                                                                                                                               Case Details for Court Case ORANGE 15IF702186\\n                                                                                                                                                                                             Defendant: BOWES,DANIEL,PATRICK\\n                                                                                                                                                Case Information\\n                                                                                                                                                Case Record Was Last Updated: 09/22/2015                   Offense Date/Time: 05/17/2015 09:59 PM\\n                                                                                                                                                Case Status: DISPOSED                                      Case Was Issued on: 05/17/2015\\n                                                                                                                                                Microfilm Number: -                                        Case Was Entered on: 05/18/2015\\n                                                                                                                                                Case Was Reinstated: -                                     Case Was Served on: 05/17/2015\\n                                                                                                                                                Jurisdiction: DISTRICT COURT                               Court Session\\n                                                                                                                                                Citation Number: 8878F91                                   • Date: 07/15/2015\\n                                                                                                                                                Originating Case (OCA) or Incident                         • Session: AM\\n                                                                                                                                                • Agency: -                                                • Room: -\\n                                                                                                                                                • Number: -\\n                                                                                                                                                                                                           Number of Times the Case Was Continued\\n                                                                                                                                                Process Type in District Court: CITATION                   • By the Defense: 1\\n                                                                                                                                                Process Type in Superior Court: -                          • By the State: -\\n                                                                                                                                                Domestic Violence General Statute (G.S. 50B) Applies to    • By the Judge: -\\n                                                                                                                                                • Charged Offenses: NO                                     • Because the Case Could Not Be Heard on the Scheduled Date: -\\n                                                                                                                                                • Offenses Convicted in District Court: NO\\n                                                                                                                                                Crime Victim's Rights Act (G.S. 15A-830) Applies: NO\\n                                                                                                                                                Interpreter Used: -\\n                                                                                                                                                Case Notes: -\\n\\n                                                                                                                                                Case Officials\\n                                                                                                                                                Prosecuting Attorney                                       Defense Attorney\\n                                                                                                                                                • Assigned on: 07/15/2015                                  • Type: PRIVATELY RETAINED (SELF)\\n                                                                                                                                                • Initials: JLN                                            • Assigned on: 07/15/2015\\n                                                                                                                                                • Name: NIEMAN,JEFFREY,LARKIN                              • Name: KENNEDY,KEVIN\\n                                                                                                                                                Arrest and Release Information\\n                                                                                                                                                No arrest information was recorded for this case.\\n\\n                                                                                                                                                Violation of Court Orders\\n                                                                                                                                                Cash Bond Was Forfeited on: -                              Dates Related to Missed Court Appearances\\n                                                                                                                                                Outstanding Order for Arrest Exists: NO                    • Last Called And Failed on: -\\n                                                                                                                                                Terms of Probation Were Violated: NO                       • Failed to Appear Within 20 days: -\\n                                                                                                                                                Failed to Comply with Ordered Payment within Grace         • Appeared After Failing to Appear: -\\n                                                                                                                                                Period: YES\\n                                                                                                                                                Order to Show Cause Exists: NO\\n                                                                                                                                                Defendant\\n                                                                                                                                                Name: BOWES,DANIEL,PATRICK\\n                                                                                                                                                Alias Names:-\\n                                                                                                                                                Date of Birth/Estimated Age:                                Driver License Information\\n                                                                                                                                                09/10/1988                                                  • License State: NC\\n                                                                                                                                                Race: WHITE                                                 • Commercial License: NO\\n                                                                                                                                                Sex: MALE                                                   • State Reciprocity: NO\\n                                                                                                                                                Address: 1030 SUNNYVIEW CIR                                 • Civil Revocation Effective: -\\n                                                                                                                                                     MATTHEWS, NC 28105                                     • Civil Revocation Status: -\\n                                                                                                                                                Witnesses\\n\\n\\n\\n\\n                                                                                                                                                Printed on 04/02/2019 at 01:25:53 PM                        ORANGE 15IF702186                                 Page 1 of 3\\n\\x0cNot a certified copy. ~ Not a certified copy. ~ Not a certified copy. ~ Not a certified copy. ~ Not a certified copy. ~ Not a certified copy.                                                                  Address                     Phone Numbers            Subpoena\\n                                                                                                                                                Name: MORRISON,M,L                              HILLSBOROUGH, NC, -                      Home: -               Requested: -\\n                                                                                                                                                Type: COMPLAINANT                                                                        Work: -               Issued: -\\n                                                                                                                                                Officer Number: 1529                                                                                           Served: -\\n                                                                                                                                                Agency: STATE HIGHWAY PATROL                                                                                   Served By: -\\n\\n                                                                                                                                                Citation Information\\n                                                                                                                                                Citation Number: 8878F91                                         Commercial Vehicle: NO\\n                                                                                                                                                Offense Date/Time: 05/17/2015 09:59 PM                           Hazardous Material: NO\\n                                                                                                                                                State Road Number: I40                                           Vehicle Type: 2 OR 4 DOOR SEDAN (PASSENGER) CAR\\n                                                                                                                                                State Highway Patrol Area Number: 01                             Trailer Type: -\\n                                                                                                                                                State Highway Patrol Troop and District: D7                      License Plate: NC CLH4137\\n                                                                                                                                                Accident Severity: NEAR ACCIDENT OR NO ACCIDENT\\n                                                                                                                                                Consolidation for Judgment\\n                                                                                                                                                No consolidation information was recorded for this case.\\n\\n                                                                                                                                                Offense Record 1 of 1 (Line Number 1) DISTRICT COURT (Current Jurisdiction )\\n                                                                                                                                                                                         Description                              Severity                   Law          NCAOC\\n                                                                                                                                                                                                                                                                           Code\\n                                                                                                                                                CHARGED       SPEEDING(80 mph in a 65 mph zone)                           INFRACTION        G.S. 20-141(B)                 4450\\n                                                                                                                                                ARRAIGNED SPEEDING(80 mph in a 65 mph zone)                               INFRACTION        G.S. 20-141(B)                 4450\\n                                                                                                                                                CONVICTED IMPROPER EQUIP - SPEEDOMETER                                    INFRACTION        G.S. 20-123.2                  4418\\n                                                                                                                                                Disposed on: 07/15/2015                                          Plea: RESPONSIBLE TO LESSER\\n                                                                                                                                                Disposition Method: DISPOSED BY JUDGE                            Verdict: RESPONSIBLE\\n                                                                                                                                                Disposition Reason: -                                            Sentencing Class: -\\n                                                                                                                                                Correction Reason: -\\n\\n                                                                                                                                                Offense Record: Court Officials\\n\\n                                                                                                                                                Judge: SCARLETT,BEVERLY,AInitials: BAS\\n                                                                                                                                                Prosecuting Attorney                                                  Defense Attorney\\n                                                                                                                                                 Assigned     Initials                        Name                         Type        Assigned             Name\\n                                                                                                                                                    on                                                                                    on\\n                                                                                                                                                                                                                      PRIVATELY\\n                                                                                                                                                07/15/2015 JLN             NIEMAN,JEFFREY,L                                          07/15/2015 KENNEDY,KEVIN\\n                                                                                                                                                                                                                      RETAINED\\n                                                                                                                                                Offense Record: Violation of Court Orders\\n                                                                                                                                                Bond Forfeiture Was Ordered on: -                                Outstanding Order for Arrest Issued on: -\\n                                                                                                                                                Cash Bond Was Forfeited on: -                                    Terms of Probation Were Violated on: -\\n                                                                                                                                                Show Cause Order Issued on: -\\n                                                                                                                                                Dates Related to Missed Court Appearances                        Dates Related to Failing to Comply a with Court Order\\n                                                                                                                                                • Failed to Appear (Called & Failed) on: -                       • Failed to Comply on: -\\n                                                                                                                                                • Failed to Appear Within 20 days: -                             • Failed to Comply with Ordered Payment within Grace Period on:\\n                                                                                                                                                • Appeared After Failing to Appear: -                            08/10/2015\\n                                                                                                                                                                                                                 • Complied with Ordered Payments after Failing to Comply on:\\n                                                                                                                                                                                                                 09/21/2015\\n                                                                                                                                                Community Service License Revocation on: -                       Community Service License Revocation Compliance on: -\\n\\n                                                                                                                                                Offense Record: Transfers or Appeals\\n                                                                                                                                                No appeals or transfers were recorded for this offense.\\n                                                                                                                                                Offense Record: Special Conditions\\n                                                                                                                                                No special conditions were recorded for this offense.\\n                                                                                                                                                Offense Record: Sentence\\n                                                                                                                                                No sentence information was recorded for this offense.\\n                                                                                                                                                Offense Record: Probation\\n                                                                                                                                                No probation information was recorded for this offense.\\n\\n\\n\\n\\n                                                                                                                                                Printed on 04/02/2019 at 01:25:53 PM                              ORANGE 15IF702186                                  Page 2 of 3\\n\\x0cNot a certified copy. ~ Not a certified copy. ~ Not a certified copy. ~ Not a certified copy. ~ Not a certified copy. ~ Not a certified copy.   Offense Record: Monies\\n                                                                                                                                                Monies Paid Status: DEFENDANT HAS COMPLIED WITH FINE OR COST\\n                                                                                                                                                Date Monies To Be Paid: -\\n                                                                                                                                                Fine\\n                                                                                                                                                  Amount                                                                   Status\\n                                                                                                                                                $25.00       ORDERED\\n                                                                                                                                                Restitution\\n                                                                                                                                                Total Restitution Amount: -\\n                                                                                                                                                Status: -\\n                                                                                                                                                Remarks: -\\n                                                                                                                                                             Payee                        Amount               Court Cases of Defendants Responsible for                   Status\\n                                                                                                                                                                                                                Paying Restitution Jointly and Severally\\n                                                                                                                                                -                             -                            -                                                  -\\n                                                                                                                                                Detailed Court Costs\\n                                                                                                                                                Total Court Cost Amount: $288.00\\n                                                                                                                                                Waive Court Costs: NOT WAIVED\\n                                                                                                                                                                          Cost Category                                                 Amount                             Status\\n                                                                                                                                                GCJF DISTRICT                                                               $127.05                           ORDERED\\n                                                                                                                                                GCJF DISTRICT LAA                                                           $2.45                             ORDERED\\n                                                                                                                                                LEOB RF                                                                     $7.50                             ORDERED\\n                                                                                                                                                LE CERT TRAINING DISTRICT                                                   $2.00                             ORDERED\\n                                                                                                                                                TELEPHONE FEE DISTRICT                                                      $4.00                             ORDERED\\n                                                                                                                                                MCF FEE                                                                     $18.00                            ORDERED\\n                                                                                                                                                CHAPTER 20 VIOLATION FEE DISTRICT                                           $10.00                            ORDERED\\n                                                                                                                                                SERVICE FEE                                                                 $5.00                             ORDERED\\n                                                                                                                                                FACILITIES FEE DISTRICT                                                     $12.00                            ORDERED\\n                                                                                                                                                IMPROPER EQUIPMENT FEE DISTRICT                                             $50.00                            ORDERED\\n                                                                                                                                                FTC 20DF FEE DISTRICT                                                       $50.00                            ORDERED\\n\\n                                                                                                                                                DMV Notification Events\\n                                                                                                                                                     Event Date                        Event Name                   Method of Notification to             Jurisdiction               Offense #\\n                                                                                                                                                                                                                             DMV\\n                                                                                                                                                                       COMPLIANCE TO FAILURE TO\\n                                                                                                                                                09/22/2015                                                        SENT ELECTRONICALLY            DISTRICT COURT                  -\\n                                                                                                                                                                       COMPLY\\n                                                                                                                                                08/10/2015             FAILURE TO COMPLY                          SENT ELECTRONICALLY            DISTRICT COURT                  -\\n                                                                                                                                                07/15/2015             CONVICTION                                 SENT ELECTRONICALLY            DISTRICT COURT                  -\\n                                                                                                                                                Case Event History\\n                                                                                                                                                No case history events were recorded for this case.\\n                                                                                                                                                Disclaimer\\n                                                                                                                                                This document was generated using a North Carolina Administrative Office of the Courts website. The document is intended to be used as a\\n                                                                                                                                                resource to determine the general status of historical and in-process court cases. This information is not the official record of the court. As\\n                                                                                                                                                such, it should only be used to gain a general understanding of a case's history and disposition. Accordingly, the North Carolina Administrative\\n                                                                                                                                                Office of the Courts, the office of the Clerk of Superior Court, their officials and employees are not responsible or liable for any loss,\\n                                                                                                                                                consequence, or damage resulting directly or indirectly from use of the information.\\n\\n\\n\\n\\n                                                                                                                                                Printed on 04/02/2019 at 01:25:53 PM                                    ORANGE 15IF702186                                       Page 3 of 3\\n\\x0c\""
      ]
     },
     "execution_count": 8,
     "metadata": {},
     "output_type": "execute_result"
    }
   ],
   "source": [
    "pages"
   ]
  },
  {
   "cell_type": "code",
   "execution_count": 29,
   "metadata": {},
   "outputs": [
    {
     "data": {
      "text/plain": [
       "'S'"
      ]
     },
     "execution_count": 29,
     "metadata": {},
     "output_type": "execute_result"
    }
   ],
   "source": [
    "charge_re = r'CHARGED\\s+([\\w\\(\\)+])'\n",
    "match = re.search(charge_re, page2)\n",
    "match.group(1)"
   ]
  },
  {
   "cell_type": "code",
   "execution_count": 9,
   "metadata": {},
   "outputs": [],
   "source": [
    "report = {\n",
    "    'Case Information': {},\n",
    "    'Case Officials': {},\n",
    "    'Arrest and Release Information': {},\n",
    "    'Violation of Court Orders': {},\n",
    "    'Defendant': {},\n",
    "    'Witnesses': {},\n",
    "    'Citation Information': {},\n",
    "    'Consolidation for Judgment': {},\n",
    "    'Offense Record': {\n",
    "        'Court Officials': {},\n",
    "        'Violation of Court Orders': {},\n",
    "        'Transfers or Appeals': {},\n",
    "        'Monies': {},\n",
    "    },\n",
    "    'DMV Notification Events': {},\n",
    "}"
   ]
  },
  {
   "cell_type": "code",
   "execution_count": null,
   "metadata": {},
   "outputs": [],
   "source": []
  },
  {
   "cell_type": "code",
   "execution_count": 25,
   "metadata": {},
   "outputs": [
    {
     "data": {
      "text/plain": [
       "'ORANGE'"
      ]
     },
     "execution_count": 25,
     "metadata": {},
     "output_type": "execute_result"
    }
   ],
   "source": [
    "haystack = \"                Case Details for Court Case ORANGE 15IF702186\"\n",
    "case_re = r\"\\s*Case Details for Court Case (?P<county>\\w+) (?P<case>\\w+)\"\n",
    "match = re.match(case_re, haystack)\n",
    "match['county']"
   ]
  },
  {
   "cell_type": "code",
   "execution_count": 21,
   "metadata": {},
   "outputs": [
    {
     "name": "stdout",
     "output_type": "stream",
     "text": [
      "Not a certified copy. ~ Not a certified copy. ~ Not a certified copy. ~ Not a certified copy. ~ Not a certified copy. ~ Not a certified copy.\n",
      "\n",
      "\n",
      "                                                                                                                                                                               Case Details for Court Case ORANGE 15IF702186\n",
      "                                                                                                                                                                                             Defendant: BOWES,DANIEL,PATRICK\n",
      "                                                                                                                                                Case Information\n",
      "                                                                                                                                                Case Record Was Last Updated: 09/22/2015                   Offense Date/Time: 05/17/2015 09:59 PM\n",
      "                                                                                                                                                Case Status: DISPOSED                                      Case Was Issued on: 05/17/2015\n",
      "                                                                                                                                                Microfilm Number: -                                        Case Was Entered on: 05/18/2015\n",
      "                                                                                                                                                Case Was Reinstated: -                                     Case Was Served on: 05/17/2015\n",
      "                                                                                                                                                Jurisdiction: DISTRICT COURT                               Court Session\n",
      "                                                                                                                                                Citation Number: 8878F91                                   • Date: 07/15/2015\n",
      "                                                                                                                                                Originating Case (OCA) or Incident                         • Session: AM\n",
      "                                                                                                                                                • Agency: -                                                • Room: -\n",
      "                                                                                                                                                • Number: -\n",
      "                                                                                                                                                                                                           Number of Times the Case Was Continued\n",
      "                                                                                                                                                Process Type in District Court: CITATION                   • By the Defense: 1\n",
      "                                                                                                                                                Process Type in Superior Court: -                          • By the State: -\n",
      "                                                                                                                                                Domestic Violence General Statute (G.S. 50B) Applies to    • By the Judge: -\n",
      "                                                                                                                                                • Charged Offenses: NO                                     • Because the Case Could Not Be Heard on the Scheduled Date: -\n",
      "                                                                                                                                                • Offenses Convicted in District Court: NO\n",
      "                                                                                                                                                Crime Victim's Rights Act (G.S. 15A-830) Applies: NO\n",
      "                                                                                                                                                Interpreter Used: -\n",
      "                                                                                                                                                Case Notes: -\n",
      "\n",
      "                                                                                                                                                Case Officials\n",
      "                                                                                                                                                Prosecuting Attorney                                       Defense Attorney\n",
      "                                                                                                                                                • Assigned on: 07/15/2015                                  • Type: PRIVATELY RETAINED (SELF)\n",
      "                                                                                                                                                • Initials: JLN                                            • Assigned on: 07/15/2015\n",
      "                                                                                                                                                • Name: NIEMAN,JEFFREY,LARKIN                              • Name: KENNEDY,KEVIN\n",
      "                                                                                                                                                Arrest and Release Information\n",
      "                                                                                                                                                No arrest information was recorded for this case.\n",
      "\n",
      "                                                                                                                                                Violation of Court Orders\n",
      "                                                                                                                                                Cash Bond Was Forfeited on: -                              Dates Related to Missed Court Appearances\n",
      "                                                                                                                                                Outstanding Order for Arrest Exists: NO                    • Last Called And Failed on: -\n",
      "                                                                                                                                                Terms of Probation Were Violated: NO                       • Failed to Appear Within 20 days: -\n",
      "                                                                                                                                                Failed to Comply with Ordered Payment within Grace         • Appeared After Failing to Appear: -\n",
      "                                                                                                                                                Period: YES\n",
      "                                                                                                                                                Order to Show Cause Exists: NO\n",
      "                                                                                                                                                Defendant\n",
      "                                                                                                                                                Name: BOWES,DANIEL,PATRICK\n",
      "                                                                                                                                                Alias Names:-\n",
      "                                                                                                                                                Date of Birth/Estimated Age:                                Driver License Information\n",
      "                                                                                                                                                09/10/1988                                                  • License State: NC\n",
      "                                                                                                                                                Race: WHITE                                                 • Commercial License: NO\n",
      "                                                                                                                                                Sex: MALE                                                   • State Reciprocity: NO\n",
      "                                                                                                                                                Address: 1030 SUNNYVIEW CIR                                 • Civil Revocation Effective: -\n",
      "                                                                                                                                                     MATTHEWS, NC 28105                                     • Civil Revocation Status: -\n",
      "                                                                                                                                                Witnesses\n",
      "\n",
      "\n",
      "\n",
      "\n",
      "                                                                                                                                                Printed on 04/02/2019 at 01:25:53 PM                        ORANGE 15IF702186                                 Page 1 of 3\n",
      "\n",
      "Not a certified copy. ~ Not a certified copy. ~ Not a certified copy. ~ Not a certified copy. ~ Not a certified copy. ~ Not a certified copy.                                                                  Address                     Phone Numbers            Subpoena\n",
      "                                                                                                                                                Name: MORRISON,M,L                              HILLSBOROUGH, NC, -                      Home: -               Requested: -\n",
      "                                                                                                                                                Type: COMPLAINANT                                                                        Work: -               Issued: -\n",
      "                                                                                                                                                Officer Number: 1529                                                                                           Served: -\n",
      "                                                                                                                                                Agency: STATE HIGHWAY PATROL                                                                                   Served By: -\n",
      "\n",
      "                                                                                                                                                Citation Information\n",
      "                                                                                                                                                Citation Number: 8878F91                                         Commercial Vehicle: NO\n",
      "                                                                                                                                                Offense Date/Time: 05/17/2015 09:59 PM                           Hazardous Material: NO\n",
      "                                                                                                                                                State Road Number: I40                                           Vehicle Type: 2 OR 4 DOOR SEDAN (PASSENGER) CAR\n",
      "                                                                                                                                                State Highway Patrol Area Number: 01                             Trailer Type: -\n",
      "                                                                                                                                                State Highway Patrol Troop and District: D7                      License Plate: NC CLH4137\n",
      "                                                                                                                                                Accident Severity: NEAR ACCIDENT OR NO ACCIDENT\n",
      "                                                                                                                                                Consolidation for Judgment\n",
      "                                                                                                                                                No consolidation information was recorded for this case.\n",
      "\n",
      "                                                                                                                                                Offense Record 1 of 1 (Line Number 1) DISTRICT COURT (Current Jurisdiction )\n",
      "                                                                                                                                                                                         Description                              Severity                   Law          NCAOC\n",
      "                                                                                                                                                                                                                                                                           Code\n",
      "                                                                                                                                                CHARGED       SPEEDING(80 mph in a 65 mph zone)                           INFRACTION        G.S. 20-141(B)                 4450\n",
      "                                                                                                                                                ARRAIGNED SPEEDING(80 mph in a 65 mph zone)                               INFRACTION        G.S. 20-141(B)                 4450\n",
      "                                                                                                                                                CONVICTED IMPROPER EQUIP - SPEEDOMETER                                    INFRACTION        G.S. 20-123.2                  4418\n",
      "                                                                                                                                                Disposed on: 07/15/2015                                          Plea: RESPONSIBLE TO LESSER\n",
      "                                                                                                                                                Disposition Method: DISPOSED BY JUDGE                            Verdict: RESPONSIBLE\n",
      "                                                                                                                                                Disposition Reason: -                                            Sentencing Class: -\n",
      "                                                                                                                                                Correction Reason: -\n",
      "\n",
      "                                                                                                                                                Offense Record: Court Officials\n",
      "\n",
      "                                                                                                                                                Judge: SCARLETT,BEVERLY,AInitials: BAS\n",
      "                                                                                                                                                Prosecuting Attorney                                                  Defense Attorney\n",
      "                                                                                                                                                 Assigned     Initials                        Name                         Type        Assigned             Name\n",
      "                                                                                                                                                    on                                                                                    on\n",
      "                                                                                                                                                                                                                      PRIVATELY\n",
      "                                                                                                                                                07/15/2015 JLN             NIEMAN,JEFFREY,L                                          07/15/2015 KENNEDY,KEVIN\n",
      "                                                                                                                                                                                                                      RETAINED\n",
      "                                                                                                                                                Offense Record: Violation of Court Orders\n",
      "                                                                                                                                                Bond Forfeiture Was Ordered on: -                                Outstanding Order for Arrest Issued on: -\n",
      "                                                                                                                                                Cash Bond Was Forfeited on: -                                    Terms of Probation Were Violated on: -\n",
      "                                                                                                                                                Show Cause Order Issued on: -\n",
      "                                                                                                                                                Dates Related to Missed Court Appearances                        Dates Related to Failing to Comply a with Court Order\n",
      "                                                                                                                                                • Failed to Appear (Called & Failed) on: -                       • Failed to Comply on: -\n",
      "                                                                                                                                                • Failed to Appear Within 20 days: -                             • Failed to Comply with Ordered Payment within Grace Period on:\n",
      "                                                                                                                                                • Appeared After Failing to Appear: -                            08/10/2015\n",
      "                                                                                                                                                                                                                 • Complied with Ordered Payments after Failing to Comply on:\n",
      "                                                                                                                                                                                                                 09/21/2015\n",
      "                                                                                                                                                Community Service License Revocation on: -                       Community Service License Revocation Compliance on: -\n",
      "\n",
      "                                                                                                                                                Offense Record: Transfers or Appeals\n",
      "                                                                                                                                                No appeals or transfers were recorded for this offense.\n",
      "                                                                                                                                                Offense Record: Special Conditions\n",
      "                                                                                                                                                No special conditions were recorded for this offense.\n",
      "                                                                                                                                                Offense Record: Sentence\n",
      "                                                                                                                                                No sentence information was recorded for this offense.\n",
      "                                                                                                                                                Offense Record: Probation\n",
      "                                                                                                                                                No probation information was recorded for this offense.\n",
      "\n",
      "\n",
      "\n",
      "\n",
      "                                                                                                                                                Printed on 04/02/2019 at 01:25:53 PM                              ORANGE 15IF702186                                  Page 2 of 3\n",
      "\n",
      "Not a certified copy. ~ Not a certified copy. ~ Not a certified copy. ~ Not a certified copy. ~ Not a certified copy. ~ Not a certified copy.   Offense Record: Monies\n",
      "                                                                                                                                                Monies Paid Status: DEFENDANT HAS COMPLIED WITH FINE OR COST\n",
      "                                                                                                                                                Date Monies To Be Paid: -\n",
      "                                                                                                                                                Fine\n",
      "                                                                                                                                                  Amount                                                                   Status\n",
      "                                                                                                                                                $25.00       ORDERED\n",
      "                                                                                                                                                Restitution\n",
      "                                                                                                                                                Total Restitution Amount: -\n",
      "                                                                                                                                                Status: -\n",
      "                                                                                                                                                Remarks: -\n",
      "                                                                                                                                                             Payee                        Amount               Court Cases of Defendants Responsible for                   Status\n",
      "                                                                                                                                                                                                                Paying Restitution Jointly and Severally\n",
      "                                                                                                                                                -                             -                            -                                                  -\n",
      "                                                                                                                                                Detailed Court Costs\n",
      "                                                                                                                                                Total Court Cost Amount: $288.00\n",
      "                                                                                                                                                Waive Court Costs: NOT WAIVED\n",
      "                                                                                                                                                                          Cost Category                                                 Amount                             Status\n",
      "                                                                                                                                                GCJF DISTRICT                                                               $127.05                           ORDERED\n",
      "                                                                                                                                                GCJF DISTRICT LAA                                                           $2.45                             ORDERED\n",
      "                                                                                                                                                LEOB RF                                                                     $7.50                             ORDERED\n",
      "                                                                                                                                                LE CERT TRAINING DISTRICT                                                   $2.00                             ORDERED\n",
      "                                                                                                                                                TELEPHONE FEE DISTRICT                                                      $4.00                             ORDERED\n",
      "                                                                                                                                                MCF FEE                                                                     $18.00                            ORDERED\n",
      "                                                                                                                                                CHAPTER 20 VIOLATION FEE DISTRICT                                           $10.00                            ORDERED\n",
      "                                                                                                                                                SERVICE FEE                                                                 $5.00                             ORDERED\n",
      "                                                                                                                                                FACILITIES FEE DISTRICT                                                     $12.00                            ORDERED\n",
      "                                                                                                                                                IMPROPER EQUIPMENT FEE DISTRICT                                             $50.00                            ORDERED\n",
      "                                                                                                                                                FTC 20DF FEE DISTRICT                                                       $50.00                            ORDERED\n",
      "\n",
      "                                                                                                                                                DMV Notification Events\n",
      "                                                                                                                                                     Event Date                        Event Name                   Method of Notification to             Jurisdiction               Offense #\n",
      "                                                                                                                                                                                                                             DMV\n",
      "                                                                                                                                                                       COMPLIANCE TO FAILURE TO\n",
      "                                                                                                                                                09/22/2015                                                        SENT ELECTRONICALLY            DISTRICT COURT                  -\n",
      "                                                                                                                                                                       COMPLY\n",
      "                                                                                                                                                08/10/2015             FAILURE TO COMPLY                          SENT ELECTRONICALLY            DISTRICT COURT                  -\n",
      "                                                                                                                                                07/15/2015             CONVICTION                                 SENT ELECTRONICALLY            DISTRICT COURT                  -\n",
      "                                                                                                                                                Case Event History\n",
      "                                                                                                                                                No case history events were recorded for this case.\n",
      "                                                                                                                                                Disclaimer\n",
      "                                                                                                                                                This document was generated using a North Carolina Administrative Office of the Courts website. The document is intended to be used as a\n",
      "                                                                                                                                                resource to determine the general status of historical and in-process court cases. This information is not the official record of the court. As\n",
      "                                                                                                                                                such, it should only be used to gain a general understanding of a case's history and disposition. Accordingly, the North Carolina Administrative\n",
      "                                                                                                                                                Office of the Courts, the office of the Clerk of Superior Court, their officials and employees are not responsible or liable for any loss,\n",
      "                                                                                                                                                consequence, or damage resulting directly or indirectly from use of the information.\n",
      "\n",
      "\n",
      "\n",
      "\n",
      "                                                                                                                                                Printed on 04/02/2019 at 01:25:53 PM                                    ORANGE 15IF702186                                       Page 3 of 3\n",
      "\n"
     ]
    }
   ],
   "source": [
    "for line in pages.splitlines():\n",
    "    print(line)"
   ]
  },
  {
   "cell_type": "code",
   "execution_count": null,
   "metadata": {},
   "outputs": [],
   "source": []
  }
 ],
 "metadata": {
  "kernelspec": {
   "display_name": "Python 3",
   "language": "python",
   "name": "python3"
  },
  "language_info": {
   "codemirror_mode": {
    "name": "ipython",
    "version": 3
   },
   "file_extension": ".py",
   "mimetype": "text/x-python",
   "name": "python",
   "nbconvert_exporter": "python",
   "pygments_lexer": "ipython3",
   "version": "3.6.6"
  }
 },
 "nbformat": 4,
 "nbformat_minor": 2
}
